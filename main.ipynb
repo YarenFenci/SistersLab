{
 "cells": [
  {
   "cell_type": "code",
   "execution_count": 8,
   "id": "a95c762a",
   "metadata": {},
   "outputs": [],
   "source": [
    "from config.config import YOUTUBE_API_KEY\n",
    "from googleapiclient.discovery import build\n",
    "from IPython.display import JSON\n"
   ]
  },
  {
   "cell_type": "code",
   "execution_count": 9,
   "id": "08841bb0",
   "metadata": {},
   "outputs": [],
   "source": [
    "api_service_name = \"youtube\"\n",
    "api_version = \"v3\"\n",
    "\n",
    "youtube = build(\n",
    "    api_service_name, api_version, developerKey=YOUTUBE_API_KEY\n",
    ")\n"
   ]
  },
  {
   "cell_type": "code",
   "execution_count": 10,
   "id": "4a57c457",
   "metadata": {},
   "outputs": [],
   "source": [
    "channel_ids = [\n",
    "    'UCYO_jab_esuFRV4b17AJtAw',\n",
    "]"
   ]
  },
  {
   "cell_type": "code",
   "execution_count": 13,
   "id": "1d74266e",
   "metadata": {},
   "outputs": [],
   "source": [
    "request = youtube.channels().list(\n",
    "    part=\"snippet,contentDetails,statistics\",\n",
    "    id=\",\".join(channel_ids)\n",
    ")\n",
    "response = request.execute()\n"
   ]
  },
  {
   "cell_type": "code",
   "execution_count": 12,
   "id": "bd9e49e5",
   "metadata": {},
   "outputs": [
    {
     "data": {
      "application/json": {
       "etag": "gBasI5Bs-zJKfhPMjeATGjwObCA",
       "items": [
        {
         "contentDetails": {
          "relatedPlaylists": {
           "likes": "",
           "uploads": "UUYO_jab_esuFRV4b17AJtAw"
          }
         },
         "etag": "2Qxrn1hndyYKjRo-ex56RFmeMig",
         "id": "UCYO_jab_esuFRV4b17AJtAw",
         "kind": "youtube#channel",
         "snippet": {
          "country": "US",
          "customUrl": "@3blue1brown",
          "description": "My name is Grant Sanderson. Videos here cover a variety of topics in math, or adjacent fields like physics and CS, all with an emphasis on visualizing the core ideas. The goal is to use animation to help elucidate and motivate otherwise tricky topics, and for difficult problems to be made simple with changes in perspective.\n\nFor more information, other projects, FAQs, and inquiries see the website: https://www.3blue1brown.com",
          "localized": {
           "description": "My name is Grant Sanderson. Videos here cover a variety of topics in math, or adjacent fields like physics and CS, all with an emphasis on visualizing the core ideas. The goal is to use animation to help elucidate and motivate otherwise tricky topics, and for difficult problems to be made simple with changes in perspective.\n\nFor more information, other projects, FAQs, and inquiries see the website: https://www.3blue1brown.com",
           "title": "3Blue1Brown"
          },
          "publishedAt": "2015-03-03T23:11:55Z",
          "thumbnails": {
           "default": {
            "height": 88,
            "url": "https://yt3.ggpht.com/ytc/AIdro_nFzZFPLxPZRHcE3SSwzdrbuWqfoWYwLAu0_2iO6blQYAU=s88-c-k-c0x00ffffff-no-rj",
            "width": 88
           },
           "high": {
            "height": 800,
            "url": "https://yt3.ggpht.com/ytc/AIdro_nFzZFPLxPZRHcE3SSwzdrbuWqfoWYwLAu0_2iO6blQYAU=s800-c-k-c0x00ffffff-no-rj",
            "width": 800
           },
           "medium": {
            "height": 240,
            "url": "https://yt3.ggpht.com/ytc/AIdro_nFzZFPLxPZRHcE3SSwzdrbuWqfoWYwLAu0_2iO6blQYAU=s240-c-k-c0x00ffffff-no-rj",
            "width": 240
           }
          },
          "title": "3Blue1Brown"
         },
         "statistics": {
          "hiddenSubscriberCount": false,
          "subscriberCount": "7260000",
          "videoCount": "214",
          "viewCount": "648853336"
         }
        }
       ],
       "kind": "youtube#channelListResponse",
       "pageInfo": {
        "resultsPerPage": 5,
        "totalResults": 1
       }
      },
      "text/plain": [
       "<IPython.core.display.JSON object>"
      ]
     },
     "execution_count": 12,
     "metadata": {
      "application/json": {
       "expanded": false,
       "root": "root"
      }
     },
     "output_type": "execute_result"
    }
   ],
   "source": [
    "from IPython.display import JSON\n",
    "JSON(response)\n"
   ]
  },
  {
   "cell_type": "code",
   "execution_count": 14,
   "id": "ee413ef2",
   "metadata": {},
   "outputs": [],
   "source": [
    "import pandas as pd\n"
   ]
  },
  {
   "cell_type": "code",
   "execution_count": 15,
   "id": "4dfb5d33",
   "metadata": {},
   "outputs": [
    {
     "data": {
      "text/html": [
       "<div>\n",
       "<style scoped>\n",
       "    .dataframe tbody tr th:only-of-type {\n",
       "        vertical-align: middle;\n",
       "    }\n",
       "\n",
       "    .dataframe tbody tr th {\n",
       "        vertical-align: top;\n",
       "    }\n",
       "\n",
       "    .dataframe thead th {\n",
       "        text-align: right;\n",
       "    }\n",
       "</style>\n",
       "<table border=\"1\" class=\"dataframe\">\n",
       "  <thead>\n",
       "    <tr style=\"text-align: right;\">\n",
       "      <th></th>\n",
       "      <th>channel_name</th>\n",
       "      <th>description</th>\n",
       "      <th>subscriber_count</th>\n",
       "      <th>view_count</th>\n",
       "      <th>video_count</th>\n",
       "      <th>published_at</th>\n",
       "    </tr>\n",
       "  </thead>\n",
       "  <tbody>\n",
       "    <tr>\n",
       "      <th>0</th>\n",
       "      <td>3Blue1Brown</td>\n",
       "      <td>My name is Grant Sanderson. Videos here cover ...</td>\n",
       "      <td>7260000</td>\n",
       "      <td>648853336</td>\n",
       "      <td>214</td>\n",
       "      <td>2015-03-03T23:11:55Z</td>\n",
       "    </tr>\n",
       "  </tbody>\n",
       "</table>\n",
       "</div>"
      ],
      "text/plain": [
       "  channel_name                                        description  \\\n",
       "0  3Blue1Brown  My name is Grant Sanderson. Videos here cover ...   \n",
       "\n",
       "  subscriber_count view_count video_count          published_at  \n",
       "0          7260000  648853336         214  2015-03-03T23:11:55Z  "
      ]
     },
     "execution_count": 15,
     "metadata": {},
     "output_type": "execute_result"
    }
   ],
   "source": [
    "channel_data = {\n",
    "    \"channel_name\": response[\"items\"][0][\"snippet\"][\"title\"],\n",
    "    \"description\": response[\"items\"][0][\"snippet\"][\"description\"],\n",
    "    \"subscriber_count\": response[\"items\"][0][\"statistics\"][\"subscriberCount\"],\n",
    "    \"view_count\": response[\"items\"][0][\"statistics\"][\"viewCount\"],\n",
    "    \"video_count\": response[\"items\"][0][\"statistics\"][\"videoCount\"],\n",
    "    \"published_at\": response[\"items\"][0][\"snippet\"][\"publishedAt\"]\n",
    "}\n",
    "\n",
    "df = pd.DataFrame([channel_data])\n",
    "df\n"
   ]
  },
  {
   "cell_type": "code",
   "execution_count": 16,
   "id": "a00f4572",
   "metadata": {},
   "outputs": [
    {
     "data": {
      "text/html": [
       "<div>\n",
       "<style scoped>\n",
       "    .dataframe tbody tr th:only-of-type {\n",
       "        vertical-align: middle;\n",
       "    }\n",
       "\n",
       "    .dataframe tbody tr th {\n",
       "        vertical-align: top;\n",
       "    }\n",
       "\n",
       "    .dataframe thead th {\n",
       "        text-align: right;\n",
       "    }\n",
       "</style>\n",
       "<table border=\"1\" class=\"dataframe\">\n",
       "  <thead>\n",
       "    <tr style=\"text-align: right;\">\n",
       "      <th></th>\n",
       "      <th>kind</th>\n",
       "      <th>etag</th>\n",
       "      <th>id</th>\n",
       "      <th>snippet.title</th>\n",
       "      <th>snippet.description</th>\n",
       "      <th>snippet.customUrl</th>\n",
       "      <th>snippet.publishedAt</th>\n",
       "      <th>snippet.thumbnails.default.url</th>\n",
       "      <th>snippet.thumbnails.default.width</th>\n",
       "      <th>snippet.thumbnails.default.height</th>\n",
       "      <th>...</th>\n",
       "      <th>snippet.thumbnails.high.height</th>\n",
       "      <th>snippet.localized.title</th>\n",
       "      <th>snippet.localized.description</th>\n",
       "      <th>snippet.country</th>\n",
       "      <th>contentDetails.relatedPlaylists.likes</th>\n",
       "      <th>contentDetails.relatedPlaylists.uploads</th>\n",
       "      <th>statistics.viewCount</th>\n",
       "      <th>statistics.subscriberCount</th>\n",
       "      <th>statistics.hiddenSubscriberCount</th>\n",
       "      <th>statistics.videoCount</th>\n",
       "    </tr>\n",
       "  </thead>\n",
       "  <tbody>\n",
       "    <tr>\n",
       "      <th>0</th>\n",
       "      <td>youtube#channel</td>\n",
       "      <td>2Qxrn1hndyYKjRo-ex56RFmeMig</td>\n",
       "      <td>UCYO_jab_esuFRV4b17AJtAw</td>\n",
       "      <td>3Blue1Brown</td>\n",
       "      <td>My name is Grant Sanderson. Videos here cover ...</td>\n",
       "      <td>@3blue1brown</td>\n",
       "      <td>2015-03-03T23:11:55Z</td>\n",
       "      <td>https://yt3.ggpht.com/ytc/AIdro_nFzZFPLxPZRHcE...</td>\n",
       "      <td>88</td>\n",
       "      <td>88</td>\n",
       "      <td>...</td>\n",
       "      <td>800</td>\n",
       "      <td>3Blue1Brown</td>\n",
       "      <td>My name is Grant Sanderson. Videos here cover ...</td>\n",
       "      <td>US</td>\n",
       "      <td></td>\n",
       "      <td>UUYO_jab_esuFRV4b17AJtAw</td>\n",
       "      <td>648853336</td>\n",
       "      <td>7260000</td>\n",
       "      <td>False</td>\n",
       "      <td>214</td>\n",
       "    </tr>\n",
       "  </tbody>\n",
       "</table>\n",
       "<p>1 rows × 25 columns</p>\n",
       "</div>"
      ],
      "text/plain": [
       "              kind                         etag                        id  \\\n",
       "0  youtube#channel  2Qxrn1hndyYKjRo-ex56RFmeMig  UCYO_jab_esuFRV4b17AJtAw   \n",
       "\n",
       "  snippet.title                                snippet.description  \\\n",
       "0   3Blue1Brown  My name is Grant Sanderson. Videos here cover ...   \n",
       "\n",
       "  snippet.customUrl   snippet.publishedAt  \\\n",
       "0      @3blue1brown  2015-03-03T23:11:55Z   \n",
       "\n",
       "                      snippet.thumbnails.default.url  \\\n",
       "0  https://yt3.ggpht.com/ytc/AIdro_nFzZFPLxPZRHcE...   \n",
       "\n",
       "   snippet.thumbnails.default.width  snippet.thumbnails.default.height  ...  \\\n",
       "0                                88                                 88  ...   \n",
       "\n",
       "  snippet.thumbnails.high.height  snippet.localized.title  \\\n",
       "0                            800              3Blue1Brown   \n",
       "\n",
       "                       snippet.localized.description snippet.country  \\\n",
       "0  My name is Grant Sanderson. Videos here cover ...              US   \n",
       "\n",
       "   contentDetails.relatedPlaylists.likes  \\\n",
       "0                                          \n",
       "\n",
       "   contentDetails.relatedPlaylists.uploads statistics.viewCount  \\\n",
       "0                 UUYO_jab_esuFRV4b17AJtAw            648853336   \n",
       "\n",
       "  statistics.subscriberCount statistics.hiddenSubscriberCount  \\\n",
       "0                    7260000                            False   \n",
       "\n",
       "  statistics.videoCount  \n",
       "0                   214  \n",
       "\n",
       "[1 rows x 25 columns]"
      ]
     },
     "execution_count": 16,
     "metadata": {},
     "output_type": "execute_result"
    }
   ],
   "source": [
    "df = pd.json_normalize(response['items'])\n",
    "df.head()  # İlk 5 satırı görüntüle"
   ]
  },
  {
   "cell_type": "code",
   "execution_count": 18,
   "id": "0417ac8a",
   "metadata": {},
   "outputs": [
    {
     "data": {
      "text/html": [
       "<div>\n",
       "<style scoped>\n",
       "    .dataframe tbody tr th:only-of-type {\n",
       "        vertical-align: middle;\n",
       "    }\n",
       "\n",
       "    .dataframe tbody tr th {\n",
       "        vertical-align: top;\n",
       "    }\n",
       "\n",
       "    .dataframe thead th {\n",
       "        text-align: right;\n",
       "    }\n",
       "</style>\n",
       "<table border=\"1\" class=\"dataframe\">\n",
       "  <thead>\n",
       "    <tr style=\"text-align: right;\">\n",
       "      <th></th>\n",
       "      <th>snippet.thumbnails.default.width</th>\n",
       "      <th>snippet.thumbnails.default.height</th>\n",
       "      <th>snippet.thumbnails.medium.width</th>\n",
       "      <th>snippet.thumbnails.medium.height</th>\n",
       "      <th>snippet.thumbnails.high.width</th>\n",
       "      <th>snippet.thumbnails.high.height</th>\n",
       "    </tr>\n",
       "  </thead>\n",
       "  <tbody>\n",
       "    <tr>\n",
       "      <th>count</th>\n",
       "      <td>1.0</td>\n",
       "      <td>1.0</td>\n",
       "      <td>1.0</td>\n",
       "      <td>1.0</td>\n",
       "      <td>1.0</td>\n",
       "      <td>1.0</td>\n",
       "    </tr>\n",
       "    <tr>\n",
       "      <th>mean</th>\n",
       "      <td>88.0</td>\n",
       "      <td>88.0</td>\n",
       "      <td>240.0</td>\n",
       "      <td>240.0</td>\n",
       "      <td>800.0</td>\n",
       "      <td>800.0</td>\n",
       "    </tr>\n",
       "    <tr>\n",
       "      <th>std</th>\n",
       "      <td>NaN</td>\n",
       "      <td>NaN</td>\n",
       "      <td>NaN</td>\n",
       "      <td>NaN</td>\n",
       "      <td>NaN</td>\n",
       "      <td>NaN</td>\n",
       "    </tr>\n",
       "    <tr>\n",
       "      <th>min</th>\n",
       "      <td>88.0</td>\n",
       "      <td>88.0</td>\n",
       "      <td>240.0</td>\n",
       "      <td>240.0</td>\n",
       "      <td>800.0</td>\n",
       "      <td>800.0</td>\n",
       "    </tr>\n",
       "    <tr>\n",
       "      <th>25%</th>\n",
       "      <td>88.0</td>\n",
       "      <td>88.0</td>\n",
       "      <td>240.0</td>\n",
       "      <td>240.0</td>\n",
       "      <td>800.0</td>\n",
       "      <td>800.0</td>\n",
       "    </tr>\n",
       "    <tr>\n",
       "      <th>50%</th>\n",
       "      <td>88.0</td>\n",
       "      <td>88.0</td>\n",
       "      <td>240.0</td>\n",
       "      <td>240.0</td>\n",
       "      <td>800.0</td>\n",
       "      <td>800.0</td>\n",
       "    </tr>\n",
       "    <tr>\n",
       "      <th>75%</th>\n",
       "      <td>88.0</td>\n",
       "      <td>88.0</td>\n",
       "      <td>240.0</td>\n",
       "      <td>240.0</td>\n",
       "      <td>800.0</td>\n",
       "      <td>800.0</td>\n",
       "    </tr>\n",
       "    <tr>\n",
       "      <th>max</th>\n",
       "      <td>88.0</td>\n",
       "      <td>88.0</td>\n",
       "      <td>240.0</td>\n",
       "      <td>240.0</td>\n",
       "      <td>800.0</td>\n",
       "      <td>800.0</td>\n",
       "    </tr>\n",
       "  </tbody>\n",
       "</table>\n",
       "</div>"
      ],
      "text/plain": [
       "       snippet.thumbnails.default.width  snippet.thumbnails.default.height  \\\n",
       "count                               1.0                                1.0   \n",
       "mean                               88.0                               88.0   \n",
       "std                                 NaN                                NaN   \n",
       "min                                88.0                               88.0   \n",
       "25%                                88.0                               88.0   \n",
       "50%                                88.0                               88.0   \n",
       "75%                                88.0                               88.0   \n",
       "max                                88.0                               88.0   \n",
       "\n",
       "       snippet.thumbnails.medium.width  snippet.thumbnails.medium.height  \\\n",
       "count                              1.0                               1.0   \n",
       "mean                             240.0                             240.0   \n",
       "std                                NaN                               NaN   \n",
       "min                              240.0                             240.0   \n",
       "25%                              240.0                             240.0   \n",
       "50%                              240.0                             240.0   \n",
       "75%                              240.0                             240.0   \n",
       "max                              240.0                             240.0   \n",
       "\n",
       "       snippet.thumbnails.high.width  snippet.thumbnails.high.height  \n",
       "count                            1.0                             1.0  \n",
       "mean                           800.0                           800.0  \n",
       "std                              NaN                             NaN  \n",
       "min                            800.0                           800.0  \n",
       "25%                            800.0                           800.0  \n",
       "50%                            800.0                           800.0  \n",
       "75%                            800.0                           800.0  \n",
       "max                            800.0                           800.0  "
      ]
     },
     "execution_count": 18,
     "metadata": {},
     "output_type": "execute_result"
    }
   ],
   "source": [
    "df.describe()  # Sayısal verinin istatistiksel özetini al\n"
   ]
  },
  {
   "cell_type": "code",
   "execution_count": 1,
   "id": "1514ab7e",
   "metadata": {},
   "outputs": [
    {
     "name": "stdout",
     "output_type": "stream",
     "text": [
      "Kanal Adı: TEDx Talks\n",
      "Channel ID: UCsT0YIqwnpJCM-mx7-gSA4Q\n"
     ]
    }
   ],
   "source": [
    "from googleapiclient.discovery import build\n",
    "from config.config import YOUTUBE_API_KEY\n",
    "\n",
    "# API ayarları\n",
    "api_service_name = \"youtube\"\n",
    "api_version = \"v3\"\n",
    "\n",
    "youtube = build(api_service_name, api_version, developerKey=YOUTUBE_API_KEY)\n",
    "\n",
    "# Aranacak kanal adı\n",
    "channel_name = \"TEDx\"\n",
    "\n",
    "# API isteği (arama)\n",
    "request = youtube.search().list(\n",
    "    q=channel_name,\n",
    "    part=\"snippet\",\n",
    "    type=\"channel\",\n",
    "    maxResults=1\n",
    ")\n",
    "response = request.execute()\n",
    "\n",
    "# Channel ID'yi çekme\n",
    "channel_id = response['items'][0]['snippet']['channelId']\n",
    "channel_title = response['items'][0]['snippet']['title']\n",
    "\n",
    "print(f\"Kanal Adı: {channel_title}\")\n",
    "print(f\"Channel ID: {channel_id}\")\n"
   ]
  },
  {
   "cell_type": "code",
   "execution_count": 2,
   "id": "95d33050",
   "metadata": {},
   "outputs": [
    {
     "data": {
      "application/json": {
       "etag": "2K8kh9-saQDm5FhYU4Qdkpn3y3s",
       "items": [
        {
         "contentDetails": {
          "relatedPlaylists": {
           "likes": "",
           "uploads": "UUsT0YIqwnpJCM-mx7-gSA4Q"
          }
         },
         "etag": "TJxnZBPgeSLM0MFS1NFjW9mLRVA",
         "id": "UCsT0YIqwnpJCM-mx7-gSA4Q",
         "kind": "youtube#channel",
         "snippet": {
          "customUrl": "@tedx",
          "description": "TEDx is an international community that organizes TED-style events anywhere and everywhere -- celebrating locally-driven ideas and elevating them to a global stage. TEDx events are produced independently of TED conferences, each event curates speakers on their own, but based on TED's format and rules.\n\nFor more information on using TED for commercial purposes (e.g. employee learning, in a film or online course), please submit a Media Request here: https://media-requests.ted.com.",
          "localized": {
           "description": "TEDx is an international community that organizes TED-style events anywhere and everywhere -- celebrating locally-driven ideas and elevating them to a global stage. TEDx events are produced independently of TED conferences, each event curates speakers on their own, but based on TED's format and rules.\n\nFor more information on using TED for commercial purposes (e.g. employee learning, in a film or online course), please submit a Media Request here: https://media-requests.ted.com.",
           "title": "TEDx Talks"
          },
          "publishedAt": "2009-06-23T16:00:48Z",
          "thumbnails": {
           "default": {
            "height": 88,
            "url": "https://yt3.ggpht.com/1gDPO-4YPWFErfn3yQBnv0yxpkmiud1m5CrorApkOqUYdNd9FrZQ9xB9C9VmDt4EsgArnlwqAQc=s88-c-k-c0x00ffffff-no-rj",
            "width": 88
           },
           "high": {
            "height": 800,
            "url": "https://yt3.ggpht.com/1gDPO-4YPWFErfn3yQBnv0yxpkmiud1m5CrorApkOqUYdNd9FrZQ9xB9C9VmDt4EsgArnlwqAQc=s800-c-k-c0x00ffffff-no-rj",
            "width": 800
           },
           "medium": {
            "height": 240,
            "url": "https://yt3.ggpht.com/1gDPO-4YPWFErfn3yQBnv0yxpkmiud1m5CrorApkOqUYdNd9FrZQ9xB9C9VmDt4EsgArnlwqAQc=s240-c-k-c0x00ffffff-no-rj",
            "width": 240
           }
          },
          "title": "TEDx Talks"
         },
         "statistics": {
          "hiddenSubscriberCount": false,
          "subscriberCount": "42900000",
          "videoCount": "234868",
          "viewCount": "8380162939"
         }
        }
       ],
       "kind": "youtube#channelListResponse",
       "pageInfo": {
        "resultsPerPage": 5,
        "totalResults": 1
       }
      },
      "text/plain": [
       "<IPython.core.display.JSON object>"
      ]
     },
     "execution_count": 2,
     "metadata": {
      "application/json": {
       "expanded": false,
       "root": "root"
      }
     },
     "output_type": "execute_result"
    }
   ],
   "source": [
    "from config.config import YOUTUBE_API_KEY\n",
    "from googleapiclient.discovery import build\n",
    "from IPython.display import JSON\n",
    "\n",
    "api_service_name = \"youtube\"\n",
    "api_version = \"v3\"\n",
    "\n",
    "youtube = build(api_service_name, api_version, developerKey=YOUTUBE_API_KEY)\n",
    "\n",
    "channel_ids = ['UCsT0YIqwnpJCM-mx7-gSA4Q']  # buraya kendi channel ID'ni koy\n",
    "\n",
    "request = youtube.channels().list(\n",
    "    part=\"snippet,contentDetails,statistics\",\n",
    "    id=\",\".join(channel_ids)\n",
    ")\n",
    "response = request.execute()\n",
    "\n",
    "JSON(response)\n"
   ]
  },
  {
   "cell_type": "code",
   "execution_count": 5,
   "id": "cf59541c",
   "metadata": {},
   "outputs": [
    {
     "name": "stdout",
     "output_type": "stream",
     "text": [
      "UUsT0YIqwnpJCM-mx7-gSA4Q\n"
     ]
    }
   ],
   "source": [
    "# Her kanalın videolarını tuttuğu özel bir \"uploads\" playlist ID’si vardır.\n",
    "uploads_playlist_id = response['items'][0]['contentDetails']['relatedPlaylists']['uploads']\n",
    "print(uploads_playlist_id)\n"
   ]
  },
  {
   "cell_type": "code",
   "execution_count": 6,
   "id": "90c88901",
   "metadata": {},
   "outputs": [
    {
     "data": {
      "application/json": {
       "etag": "OxqxucRdmvgN45A2y_TPWrgofjM",
       "items": [
        {
         "etag": "NZjR-UgM3MkVaG9tqiVd7sVHlqY",
         "id": "VVVzVDBZSXF3bnBKQ00tbXg3LWdTQTRRLnpNZ1dPZjlLcnpN",
         "kind": "youtube#playlistItem",
         "snippet": {
          "channelId": "UCsT0YIqwnpJCM-mx7-gSA4Q",
          "channelTitle": "TEDx Talks",
          "description": "#shorts #tedx #ted #whales #wildlife #ocean #conservation",
          "playlistId": "UUsT0YIqwnpJCM-mx7-gSA4Q",
          "position": 0,
          "publishedAt": "2025-05-07T17:01:20Z",
          "resourceId": {
           "kind": "youtube#video",
           "videoId": "zMgWOf9KrzM"
          },
          "thumbnails": {
           "default": {
            "height": 90,
            "url": "https://i.ytimg.com/vi/zMgWOf9KrzM/default.jpg",
            "width": 120
           },
           "high": {
            "height": 360,
            "url": "https://i.ytimg.com/vi/zMgWOf9KrzM/hqdefault.jpg",
            "width": 480
           },
           "maxres": {
            "height": 720,
            "url": "https://i.ytimg.com/vi/zMgWOf9KrzM/maxresdefault.jpg",
            "width": 1280
           },
           "medium": {
            "height": 180,
            "url": "https://i.ytimg.com/vi/zMgWOf9KrzM/mqdefault.jpg",
            "width": 320
           },
           "standard": {
            "height": 480,
            "url": "https://i.ytimg.com/vi/zMgWOf9KrzM/sddefault.jpg",
            "width": 640
           }
          },
          "title": "The beauty of whale song #shorts #tedx",
          "videoOwnerChannelId": "UCsT0YIqwnpJCM-mx7-gSA4Q",
          "videoOwnerChannelTitle": "TEDx Talks"
         }
        },
        {
         "etag": "ADK0Kl4CJ05MX1GJFAZIGW1CMNw",
         "id": "VVVzVDBZSXF3bnBKQ00tbXg3LWdTQTRRLnI1NmJieDZNU3Yw",
         "kind": "youtube#playlistItem",
         "snippet": {
          "channelId": "UCsT0YIqwnpJCM-mx7-gSA4Q",
          "channelTitle": "TEDx Talks",
          "description": "In this talk, Elle Evanter explains the benefits of having a motto, using her own family motto as an example. Elle is a 5th grader at Saint Andrew’s, where she has been attending for four years. Originally from New York, she returns each summer for sleepaway camp. In her free time, she enjoys spending time with friends and family, shopping, going to the mall, and visiting Disney. While staying motivated has been a challenge, her family motto has helped her push through and gain confidence over the years. Inspired by its impact, she joined TED-Ed to share how her motto has helped her—and how it can help others too. This talk was given at a TEDx event using the TED conference format but independently organized by a local community. Learn more at https://www.ted.com/tedx",
          "playlistId": "UUsT0YIqwnpJCM-mx7-gSA4Q",
          "position": 1,
          "publishedAt": "2025-05-07T16:12:01Z",
          "resourceId": {
           "kind": "youtube#video",
           "videoId": "r56bbx6MSv0"
          },
          "thumbnails": {
           "default": {
            "height": 90,
            "url": "https://i.ytimg.com/vi/r56bbx6MSv0/default.jpg",
            "width": 120
           },
           "high": {
            "height": 360,
            "url": "https://i.ytimg.com/vi/r56bbx6MSv0/hqdefault.jpg",
            "width": 480
           },
           "maxres": {
            "height": 720,
            "url": "https://i.ytimg.com/vi/r56bbx6MSv0/maxresdefault.jpg",
            "width": 1280
           },
           "medium": {
            "height": 180,
            "url": "https://i.ytimg.com/vi/r56bbx6MSv0/mqdefault.jpg",
            "width": 320
           },
           "standard": {
            "height": 480,
            "url": "https://i.ytimg.com/vi/r56bbx6MSv0/sddefault.jpg",
            "width": 640
           }
          },
          "title": "How a motto can help you glow | Elle Evanter | TEDxSaintAndrewsSchool",
          "videoOwnerChannelId": "UCsT0YIqwnpJCM-mx7-gSA4Q",
          "videoOwnerChannelTitle": "TEDx Talks"
         }
        },
        {
         "etag": "azEExlwHI3KB87GyRxhIwkkXh-c",
         "id": "VVVzVDBZSXF3bnBKQ00tbXg3LWdTQTRRLmNab0FQOHhCbEpz",
         "kind": "youtube#playlistItem",
         "snippet": {
          "channelId": "UCsT0YIqwnpJCM-mx7-gSA4Q",
          "channelTitle": "TEDx Talks",
          "description": "In this deeply reflective TEDx talk, Asim Hafeez explores a powerful metaphor: the two mountains we all face in life. The first is the mountain of personal ambition — the goals, careers, and dreams we pursue from a young age. But what happens after we reach that peak? Through personal stories and profound insights, Asim challenges us to look beyond achievement and ask: Is there a second, higher mountain — one driven by purpose rather than success?\n\nThis talk is a call to reexamine what we’re really striving for and to consider that true fulfillment might come not from reaching the top, but from choosing the right mountain to climb. Asim Hafeez is a visionary entrepreneur, investor, and philanthropist. He is the owner and operator of Empower Energy Solutions, a rapidly growing solar EPC company generating over $100 million in annual revenue and operating in 25 states across the U.S. Through his \"Empower the World\" initiative, Asim has funded over 4,000 eyesight restoration surgeries, reflecting his belief that true success includes transforming lives beyond the boardroom.\n\nAn immigrant born in Pakistan who arrived in the U.S. without knowing English, Asim’s journey is a testament to resilience and relentless growth. With over 18 years in commission-only sales, he has built a diversified investment portfolio that includes ownership of over 200 rental doors and equity in more than 80 companies as a general or limited partner. This talk was given at a TEDx event using the TED conference format but independently organized by a local community. Learn more at https://www.ted.com/tedx",
          "playlistId": "UUsT0YIqwnpJCM-mx7-gSA4Q",
          "position": 2,
          "publishedAt": "2025-05-07T16:01:29Z",
          "resourceId": {
           "kind": "youtube#video",
           "videoId": "cZoAP8xBlJs"
          },
          "thumbnails": {
           "default": {
            "height": 90,
            "url": "https://i.ytimg.com/vi/cZoAP8xBlJs/default.jpg",
            "width": 120
           },
           "high": {
            "height": 360,
            "url": "https://i.ytimg.com/vi/cZoAP8xBlJs/hqdefault.jpg",
            "width": 480
           },
           "maxres": {
            "height": 720,
            "url": "https://i.ytimg.com/vi/cZoAP8xBlJs/maxresdefault.jpg",
            "width": 1280
           },
           "medium": {
            "height": 180,
            "url": "https://i.ytimg.com/vi/cZoAP8xBlJs/mqdefault.jpg",
            "width": 320
           },
           "standard": {
            "height": 480,
            "url": "https://i.ytimg.com/vi/cZoAP8xBlJs/sddefault.jpg",
            "width": 640
           }
          },
          "title": "The Two Mountains as Humans we must Climb | Asim Hafeez | TEDxParkland",
          "videoOwnerChannelId": "UCsT0YIqwnpJCM-mx7-gSA4Q",
          "videoOwnerChannelTitle": "TEDx Talks"
         }
        },
        {
         "etag": "XmBqU7k5lagH0s2fZfN5_Mwg96s",
         "id": "VVVzVDBZSXF3bnBKQ00tbXg3LWdTQTRRLlhHTVo3aDIya2I4",
         "kind": "youtube#playlistItem",
         "snippet": {
          "channelId": "UCsT0YIqwnpJCM-mx7-gSA4Q",
          "channelTitle": "TEDx Talks",
          "description": "What if everything you thought you knew about money was an illusion?\n\nIn this eye-opening TEDx talk, Medhi Mkinsi unpacks the powerful and unsettling truth: money isn’t real — at least, not in the way we think it is. Tracing his journey through the world of cryptocurrency, Medhi explores how digital \"magic coins,\" created from lines of code, came to hold real-world value, and how this phenomenon mirrors the way all money operates. From fiat currencies to Bitcoin, he reveals how value is not intrinsic, but rather a product of shared belief — a psychological construct upheld by trust, habit, and collective agreement.\n\nThis talk challenges conventional wisdom about wealth, economics, and what we choose to value. Prepare to question the foundations of the global financial system and walk away seeing money not as a fixed reality, but as a story we all agree to believe. Mehdi Mkinsi is a Geneva-based tech entrepreneur and the CEO of 77-bit, a cutting-edge metaverse gaming platform redefining play-to-earn experiences. With a dynamic background that spans roles at Zadig, Ito, Kamoon, and the renowned Büro Ole Scheeren, Mehdi blends creative vision with operational excellence. A graduate of 42 Silicon Valley, he brings a rare combination of skills in logistics, startups, web design, data analysis, and project management. At 77-bit, Mehdi leads the charge in building immersive, hero-based adventure games where players not only play—but earn. Under his leadership, the company has launched a beta experience that makes every hero purchased instantly playable, bridging the gap between digital ownership and real-time gameplay in the metaverse. This talk was given at a TEDx event using the TED conference format but independently organized by a local community. Learn more at https://www.ted.com/tedx",
          "playlistId": "UUsT0YIqwnpJCM-mx7-gSA4Q",
          "position": 3,
          "publishedAt": "2025-05-07T15:59:06Z",
          "resourceId": {
           "kind": "youtube#video",
           "videoId": "XGMZ7h22kb8"
          },
          "thumbnails": {
           "default": {
            "height": 90,
            "url": "https://i.ytimg.com/vi/XGMZ7h22kb8/default.jpg",
            "width": 120
           },
           "high": {
            "height": 360,
            "url": "https://i.ytimg.com/vi/XGMZ7h22kb8/hqdefault.jpg",
            "width": 480
           },
           "maxres": {
            "height": 720,
            "url": "https://i.ytimg.com/vi/XGMZ7h22kb8/maxresdefault.jpg",
            "width": 1280
           },
           "medium": {
            "height": 180,
            "url": "https://i.ytimg.com/vi/XGMZ7h22kb8/mqdefault.jpg",
            "width": 320
           },
           "standard": {
            "height": 480,
            "url": "https://i.ytimg.com/vi/XGMZ7h22kb8/sddefault.jpg",
            "width": 640
           }
          },
          "title": "How belief creates currencies with value| Mehdi Mkinsi | TEDxParkland",
          "videoOwnerChannelId": "UCsT0YIqwnpJCM-mx7-gSA4Q",
          "videoOwnerChannelTitle": "TEDx Talks"
         }
        },
        {
         "etag": "71B1TaGMY2Vt2qBgSKX-_45biwM",
         "id": "VVVzVDBZSXF3bnBKQ00tbXg3LWdTQTRRLkwxaVFzU21HaFd3",
         "kind": "youtube#playlistItem",
         "snippet": {
          "channelId": "UCsT0YIqwnpJCM-mx7-gSA4Q",
          "channelTitle": "TEDx Talks",
          "description": "We all have dreams—plans for the future, goals, and hopes that keep us moving.\n\nBut what if the reason those dreams aren’t happening isn’t because they’re too big… but because we haven’t learned how to follow through?\n\nIn this bold TEDx talk, Dr. Ifeoma Stella Okoye challenges us to face the truth. CEO, STM Magical Creations This talk was given at a TEDx event using the TED conference format but independently organized by a local community. Learn more at https://www.ted.com/tedx",
          "playlistId": "UUsT0YIqwnpJCM-mx7-gSA4Q",
          "position": 4,
          "publishedAt": "2025-05-07T15:59:04Z",
          "resourceId": {
           "kind": "youtube#video",
           "videoId": "L1iQsSmGhWw"
          },
          "thumbnails": {
           "default": {
            "height": 90,
            "url": "https://i.ytimg.com/vi/L1iQsSmGhWw/default.jpg",
            "width": 120
           },
           "high": {
            "height": 360,
            "url": "https://i.ytimg.com/vi/L1iQsSmGhWw/hqdefault.jpg",
            "width": 480
           },
           "maxres": {
            "height": 720,
            "url": "https://i.ytimg.com/vi/L1iQsSmGhWw/maxresdefault.jpg",
            "width": 1280
           },
           "medium": {
            "height": 180,
            "url": "https://i.ytimg.com/vi/L1iQsSmGhWw/mqdefault.jpg",
            "width": 320
           },
           "standard": {
            "height": 480,
            "url": "https://i.ytimg.com/vi/L1iQsSmGhWw/sddefault.jpg",
            "width": 640
           }
          },
          "title": "What If Your Dreams Are a Lie? | Ifeoma Okoye | TEDxEvergreen Schools Youth",
          "videoOwnerChannelId": "UCsT0YIqwnpJCM-mx7-gSA4Q",
          "videoOwnerChannelTitle": "TEDx Talks"
         }
        },
        {
         "etag": "2C3glUwuKh098Dv5tgbctnjtn3E",
         "id": "VVVzVDBZSXF3bnBKQ00tbXg3LWdTQTRRLmdQN3pRc203b01R",
         "kind": "youtube#playlistItem",
         "snippet": {
          "channelId": "UCsT0YIqwnpJCM-mx7-gSA4Q",
          "channelTitle": "TEDx Talks",
          "description": "​In a world moving faster than ever, most decision models are still staring into the rearview mirror—relying only on the past to guess the future. In this powerful talk, Nadab Akhtar, Founder and Managing Partner of Excite, introduces a new way forward: quantum-inspired intelligence that senses the present and adapts in real time.\n\n​Blending physics, finance, and frontier systems thinking, Nadab reveals how Excite's algorithms don't just predict — they anticipate — by modeling motion, causality, and uncertainty itself. Instead of clinging to static histories, Excite builds living, dynamic models of reality—allowing leaders to move faster, see further, and stay adaptive in an unpredictable world.\n\nJoin us for a glimpse into the future of decision-making, where sensing beats guessing, and leadership means looking ahead. Mr. Nadab Akhtar is an entrepreneur and investment banker with over 15 years of experience, including nearly a decade in corporate advisory and M&A transactions.  \n\nHe is the Founder and Managing Partner of Excite (formerly Old Parkland Capital), a quantitative trading firm that leverages AI-driven strategies to predict market movements and manage risk more dynamically than traditional fund managers.  \n\nAdditionally, Mr. Akhtar is the Co-Founder, President, and COO of CrowdPoint Technologies, Inc., a leader in Quantum-as-a-Service (QaaS) and non-cryogenic quantum computing.  \n\nHe also serves as an advisor to Cardone Ventures and its M&A practice, 10X Buy/Sell.  \n\nPreviously, Mr. Akhtar was the Chief Operating Officer of Nexus Health Capital, a boutique investment banking firm specializing in middle-market healthcare services. This talk was given at a TEDx event using the TED conference format but independently organized by a local community. Learn more at https://www.ted.com/tedx",
          "playlistId": "UUsT0YIqwnpJCM-mx7-gSA4Q",
          "position": 5,
          "publishedAt": "2025-05-07T15:58:56Z",
          "resourceId": {
           "kind": "youtube#video",
           "videoId": "gP7zQsm7oMQ"
          },
          "thumbnails": {
           "default": {
            "height": 90,
            "url": "https://i.ytimg.com/vi/gP7zQsm7oMQ/default.jpg",
            "width": 120
           },
           "high": {
            "height": 360,
            "url": "https://i.ytimg.com/vi/gP7zQsm7oMQ/hqdefault.jpg",
            "width": 480
           },
           "maxres": {
            "height": 720,
            "url": "https://i.ytimg.com/vi/gP7zQsm7oMQ/maxresdefault.jpg",
            "width": 1280
           },
           "medium": {
            "height": 180,
            "url": "https://i.ytimg.com/vi/gP7zQsm7oMQ/mqdefault.jpg",
            "width": 320
           },
           "standard": {
            "height": 480,
            "url": "https://i.ytimg.com/vi/gP7zQsm7oMQ/sddefault.jpg",
            "width": 640
           }
          },
          "title": "Beyond the Rearview Mirror: Are You Ready to Look Ahead? | Nadab Akhtar | TEDxParkland",
          "videoOwnerChannelId": "UCsT0YIqwnpJCM-mx7-gSA4Q",
          "videoOwnerChannelTitle": "TEDx Talks"
         }
        },
        {
         "etag": "kzlQxr_qwqaUPXnlMHa-mG8gfGY",
         "id": "VVVzVDBZSXF3bnBKQ00tbXg3LWdTQTRRLm1QeWtRdW82dmRj",
         "kind": "youtube#playlistItem",
         "snippet": {
          "channelId": "UCsT0YIqwnpJCM-mx7-gSA4Q",
          "channelTitle": "TEDx Talks",
          "description": "In a world more connected than ever, why are so many of us feeling alone? This talk dives into the rise of loneliness in the digital age, mixing powerful poetry, personal stories, and real stats to show how social media might be pulling us apart instead of bringing us together. It’s a call to break down the walls we’ve built, reconnect with the people around us, and remember that none of us can make it out here alone.\n My name is Lupemba, a student at the American International School of Cape Town. I play football on our school team and at club level. In my free time, I play and listen to music, go to the gym, and spend time with my friends. I am interested in how to prepare and develop a solid future for myself after high school, this led me to understand what truly matters in life. This talk was given at a TEDx event using the TED conference format but independently organized by a local community. Learn more at https://www.ted.com/tedx",
          "playlistId": "UUsT0YIqwnpJCM-mx7-gSA4Q",
          "position": 6,
          "publishedAt": "2025-05-07T15:58:48Z",
          "resourceId": {
           "kind": "youtube#video",
           "videoId": "mPykQuo6vdc"
          },
          "thumbnails": {
           "default": {
            "height": 90,
            "url": "https://i.ytimg.com/vi/mPykQuo6vdc/default.jpg",
            "width": 120
           },
           "high": {
            "height": 360,
            "url": "https://i.ytimg.com/vi/mPykQuo6vdc/hqdefault.jpg",
            "width": 480
           },
           "maxres": {
            "height": 720,
            "url": "https://i.ytimg.com/vi/mPykQuo6vdc/maxresdefault.jpg",
            "width": 1280
           },
           "medium": {
            "height": 180,
            "url": "https://i.ytimg.com/vi/mPykQuo6vdc/mqdefault.jpg",
            "width": 320
           },
           "standard": {
            "height": 480,
            "url": "https://i.ytimg.com/vi/mPykQuo6vdc/sddefault.jpg",
            "width": 640
           }
          },
          "title": "Mapping the Future of Human Connections | Lupemba Fisher | TEDxYouth@AISCT",
          "videoOwnerChannelId": "UCsT0YIqwnpJCM-mx7-gSA4Q",
          "videoOwnerChannelTitle": "TEDx Talks"
         }
        },
        {
         "etag": "uBlr7FWzIlr4QZh3elGCAXjxhYY",
         "id": "VVVzVDBZSXF3bnBKQ00tbXg3LWdTQTRRLi16ckYxZGdPOVZv",
         "kind": "youtube#playlistItem",
         "snippet": {
          "channelId": "UCsT0YIqwnpJCM-mx7-gSA4Q",
          "channelTitle": "TEDx Talks",
          "description": "This transformative message dives deep into the spiritual and human journey of bringing dreams to life—from the spark of inspiration to the courage it takes to manifest them. With vulnerability and wisdom, the speaker guides us through overcoming fear, silencing inner doubt, and aligning with divine purpose. Through personal reflection, collective empowerment, and a call to action, this talk is a soulful reminder that we are co-creators of change, capable of shaping a better world by doing what we love and becoming the best versions of ourselves. Joe Mittiga is a conscious CEO, heart-centered entrepreneur, author, and sought-after speaker with over 31 years of sobriety and freedom from codependency. As a highly evolved spiritual guide, Joe walks the path of healing and transformation alongside others, sharing the self-loving practices and emotional insights that helped him rediscover his power and purpose. His message is grounded in deep honesty and vulnerability, offering both spiritual wisdom and practical tools for living a life of love, clarity, and financial abundance. Based in Atlanta, Georgia, Joe travels the world, inspiring business and personal development audiences with his lived experience and unwavering commitment to growth, authenticity, and service. This talk was given at a TEDx event using the TED conference format but independently organized by a local community. Learn more at https://www.ted.com/tedx",
          "playlistId": "UUsT0YIqwnpJCM-mx7-gSA4Q",
          "position": 7,
          "publishedAt": "2025-05-07T15:58:18Z",
          "resourceId": {
           "kind": "youtube#video",
           "videoId": "-zrF1dgO9Vo"
          },
          "thumbnails": {
           "default": {
            "height": 90,
            "url": "https://i.ytimg.com/vi/-zrF1dgO9Vo/default.jpg",
            "width": 120
           },
           "high": {
            "height": 360,
            "url": "https://i.ytimg.com/vi/-zrF1dgO9Vo/hqdefault.jpg",
            "width": 480
           },
           "maxres": {
            "height": 720,
            "url": "https://i.ytimg.com/vi/-zrF1dgO9Vo/maxresdefault.jpg",
            "width": 1280
           },
           "medium": {
            "height": 180,
            "url": "https://i.ytimg.com/vi/-zrF1dgO9Vo/mqdefault.jpg",
            "width": 320
           },
           "standard": {
            "height": 480,
            "url": "https://i.ytimg.com/vi/-zrF1dgO9Vo/sddefault.jpg",
            "width": 640
           }
          },
          "title": "When Dreams Become Divine: Turning Inspiration Into Impact | Joe Mittiga | TEDxJabavu",
          "videoOwnerChannelId": "UCsT0YIqwnpJCM-mx7-gSA4Q",
          "videoOwnerChannelTitle": "TEDx Talks"
         }
        },
        {
         "etag": "FwZH8SMy8iyGlo8C43yzjgSRIKs",
         "id": "VVVzVDBZSXF3bnBKQ00tbXg3LWdTQTRRLi10cU83ZTd0UThN",
         "kind": "youtube#playlistItem",
         "snippet": {
          "channelId": "UCsT0YIqwnpJCM-mx7-gSA4Q",
          "channelTitle": "TEDx Talks",
          "description": "Discovering my love for running after years of feeling stuck in my fitness journey. I hope to inspire others to take risks & understand that personal\ngrowth never truly stops. I'm an 11th grader. My speech is about discovering my love for running after years of feeling stuck in my fitness journey. I hope to inspire others to take risks and understand that personal growth never truly stops. This talk was given at a TEDx event using the TED conference format but independently organized by a local community. Learn more at https://www.ted.com/tedx",
          "playlistId": "UUsT0YIqwnpJCM-mx7-gSA4Q",
          "position": 8,
          "publishedAt": "2025-05-07T15:58:02Z",
          "resourceId": {
           "kind": "youtube#video",
           "videoId": "-tqO7e7tQ8M"
          },
          "thumbnails": {
           "default": {
            "height": 90,
            "url": "https://i.ytimg.com/vi/-tqO7e7tQ8M/default.jpg",
            "width": 120
           },
           "high": {
            "height": 360,
            "url": "https://i.ytimg.com/vi/-tqO7e7tQ8M/hqdefault.jpg",
            "width": 480
           },
           "maxres": {
            "height": 720,
            "url": "https://i.ytimg.com/vi/-tqO7e7tQ8M/maxresdefault.jpg",
            "width": 1280
           },
           "medium": {
            "height": 180,
            "url": "https://i.ytimg.com/vi/-tqO7e7tQ8M/mqdefault.jpg",
            "width": 320
           },
           "standard": {
            "height": 480,
            "url": "https://i.ytimg.com/vi/-tqO7e7tQ8M/sddefault.jpg",
            "width": 640
           }
          },
          "title": "From Meters to Kilometers | Adrija Rastenytė | TEDxYouth@VIS",
          "videoOwnerChannelId": "UCsT0YIqwnpJCM-mx7-gSA4Q",
          "videoOwnerChannelTitle": "TEDx Talks"
         }
        },
        {
         "etag": "rJzPP9oBu1hBIpaQMl-O8qsXm1M",
         "id": "VVVzVDBZSXF3bnBKQ00tbXg3LWdTQTRRLjRsQUlSd1hiZ1RR",
         "kind": "youtube#playlistItem",
         "snippet": {
          "channelId": "UCsT0YIqwnpJCM-mx7-gSA4Q",
          "channelTitle": "TEDx Talks",
          "description": "Balancing school, family, friends, and activities can be tough—especially when everyone tells you what you should do. I’ll be sharing my experience with pressure and how I’m learning to choose what I really want, both now and for the future. Hey, my name is Karolina, and I am a student in gr. 9. Apart from school I attend many clubs and programs in order to develop my skills and interests. I am always choosing between school, my clubs, family, my friends and more. But when everyone else is telling you what you're supposed to quit, choose, prioritise it gets more and more difficult to remember what you want.  During the event, I will be sharing my experiences with pressure and choosing what I want to do now and in the future. This talk was given at a TEDx event using the TED conference format but independently organized by a local community. Learn more at https://www.ted.com/tedx",
          "playlistId": "UUsT0YIqwnpJCM-mx7-gSA4Q",
          "position": 9,
          "publishedAt": "2025-05-07T15:57:53Z",
          "resourceId": {
           "kind": "youtube#video",
           "videoId": "4lAIRwXbgTQ"
          },
          "thumbnails": {
           "default": {
            "height": 90,
            "url": "https://i.ytimg.com/vi/4lAIRwXbgTQ/default.jpg",
            "width": 120
           },
           "high": {
            "height": 360,
            "url": "https://i.ytimg.com/vi/4lAIRwXbgTQ/hqdefault.jpg",
            "width": 480
           },
           "maxres": {
            "height": 720,
            "url": "https://i.ytimg.com/vi/4lAIRwXbgTQ/maxresdefault.jpg",
            "width": 1280
           },
           "medium": {
            "height": 180,
            "url": "https://i.ytimg.com/vi/4lAIRwXbgTQ/mqdefault.jpg",
            "width": 320
           },
           "standard": {
            "height": 480,
            "url": "https://i.ytimg.com/vi/4lAIRwXbgTQ/sddefault.jpg",
            "width": 640
           }
          },
          "title": "On the Path to Crossroads | Karolina Žakaitytė | TEDxYouth@VIS",
          "videoOwnerChannelId": "UCsT0YIqwnpJCM-mx7-gSA4Q",
          "videoOwnerChannelTitle": "TEDx Talks"
         }
        }
       ],
       "kind": "youtube#playlistItemListResponse",
       "nextPageToken": "EAAaHlBUOkNBb2lFRGd3TVROQlJEUkRNREZDT1RVeE9EYw",
       "pageInfo": {
        "resultsPerPage": 10,
        "totalResults": 20000
       }
      },
      "text/plain": [
       "<IPython.core.display.JSON object>"
      ]
     },
     "execution_count": 6,
     "metadata": {
      "application/json": {
       "expanded": false,
       "root": "root"
      }
     },
     "output_type": "execute_result"
    }
   ],
   "source": [
    "video_request = youtube.playlistItems().list(\n",
    "    part=\"snippet\",\n",
    "    playlistId=uploads_playlist_id,\n",
    "    maxResults=10  # ilk 10 videoyu alıyoruz, sayıyı arttırabilirsin\n",
    ")\n",
    "video_response = video_request.execute()\n",
    "JSON(video_response)\n"
   ]
  },
  {
   "cell_type": "code",
   "execution_count": 16,
   "id": "36a6a9e8",
   "metadata": {},
   "outputs": [],
   "source": [
    "request = youtube.channels().list(\n",
    "    part=\"snippet,contentDetails,statistics\",  # ← BU ÇOK ÖNEMLİ\n",
    "    id=\",\".join(channel_ids)\n",
    ")\n"
   ]
  },
  {
   "cell_type": "code",
   "execution_count": 17,
   "id": "ce962271",
   "metadata": {},
   "outputs": [
    {
     "name": "stdout",
     "output_type": "stream",
     "text": [
      "  channel_title                channel_id  \\\n",
      "0    TEDx Talks  UCsT0YIqwnpJCM-mx7-gSA4Q   \n",
      "\n",
      "                                         description          published_at  \\\n",
      "0  TEDx is an international community that organi...  2009-06-23T16:00:48Z   \n",
      "\n",
      "  subscriber_count video_count  view_count  \n",
      "0         42900000      234868  8380162939  \n"
     ]
    }
   ],
   "source": [
    "# Kanal yanıtını aldığımız varsayılıyor: 'response'\n",
    "channel_info = response['items'][0]\n",
    "\n",
    "data = {\n",
    "    \"channel_title\": channel_info['snippet']['title'],\n",
    "    \"channel_id\": channel_info['id'],\n",
    "    \"description\": channel_info['snippet']['description'],\n",
    "    \"published_at\": channel_info['snippet']['publishedAt'],\n",
    "    \"subscriber_count\": channel_info['statistics'].get('subscriberCount'),\n",
    "    \"video_count\": channel_info['statistics'].get('videoCount'),\n",
    "    \"view_count\": channel_info['statistics'].get('viewCount')\n",
    "}\n",
    "\n",
    "import pandas as pd\n",
    "\n",
    "df_channel = pd.DataFrame([data])\n",
    "print(df_channel)\n"
   ]
  },
  {
   "cell_type": "code",
   "execution_count": 8,
   "id": "47ce55d2",
   "metadata": {},
   "outputs": [
    {
     "name": "stdout",
     "output_type": "stream",
     "text": [
      "{\n",
      "  \"kind\": \"youtube#channelListResponse\",\n",
      "  \"etag\": \"2K8kh9-saQDm5FhYU4Qdkpn3y3s\",\n",
      "  \"pageInfo\": {\n",
      "    \"totalResults\": 1,\n",
      "    \"resultsPerPage\": 5\n",
      "  },\n",
      "  \"items\": [\n",
      "    {\n",
      "      \"kind\": \"youtube#channel\",\n",
      "      \"etag\": \"TJxnZBPgeSLM0MFS1NFjW9mLRVA\",\n",
      "      \"id\": \"UCsT0YIqwnpJCM-mx7-gSA4Q\",\n",
      "      \"snippet\": {\n",
      "        \"title\": \"TEDx Talks\",\n",
      "        \"description\": \"TEDx is an international community that organizes TED-style events anywhere and everywhere -- celebrating locally-driven ideas and elevating them to a global stage. TEDx events are produced independently of TED conferences, each event curates speakers on their own, but based on TED's format and rules.\\n\\nFor more information on using TED for commercial purposes (e.g. employee learning, in a film or online course), please submit a Media Request here: https://media-requests.ted.com.\",\n",
      "        \"customUrl\": \"@tedx\",\n",
      "        \"publishedAt\": \"2009-06-23T16:00:48Z\",\n",
      "        \"thumbnails\": {\n",
      "          \"default\": {\n",
      "            \"url\": \"https://yt3.ggpht.com/1gDPO-4YPWFErfn3yQBnv0yxpkmiud1m5CrorApkOqUYdNd9FrZQ9xB9C9VmDt4EsgArnlwqAQc=s88-c-k-c0x00ffffff-no-rj\",\n",
      "            \"width\": 88,\n",
      "            \"height\": 88\n",
      "          },\n",
      "          \"medium\": {\n",
      "            \"url\": \"https://yt3.ggpht.com/1gDPO-4YPWFErfn3yQBnv0yxpkmiud1m5CrorApkOqUYdNd9FrZQ9xB9C9VmDt4EsgArnlwqAQc=s240-c-k-c0x00ffffff-no-rj\",\n",
      "            \"width\": 240,\n",
      "            \"height\": 240\n",
      "          },\n",
      "          \"high\": {\n",
      "            \"url\": \"https://yt3.ggpht.com/1gDPO-4YPWFErfn3yQBnv0yxpkmiud1m5CrorApkOqUYdNd9FrZQ9xB9C9VmDt4EsgArnlwqAQc=s800-c-k-c0x00ffffff-no-rj\",\n",
      "            \"width\": 800,\n",
      "            \"height\": 800\n",
      "          }\n",
      "        },\n",
      "        \"localized\": {\n",
      "          \"title\": \"TEDx Talks\",\n",
      "          \"description\": \"TEDx is an international community that organizes TED-style events anywhere and everywhere -- celebrating locally-driven ideas and elevating them to a global stage. TEDx events are produced independently of TED conferences, each event curates speakers on their own, but based on TED's format and rules.\\n\\nFor more information on using TED for commercial purposes (e.g. employee learning, in a film or online course), please submit a Media Request here: https://media-requests.ted.com.\"\n",
      "        }\n",
      "      },\n",
      "      \"contentDetails\": {\n",
      "        \"relatedPlaylists\": {\n",
      "          \"likes\": \"\",\n",
      "          \"uploads\": \"UUsT0YIqwnpJCM-mx7-gSA4Q\"\n",
      "        }\n",
      "      },\n",
      "      \"statistics\": {\n",
      "        \"viewCount\": \"8380162939\",\n",
      "        \"subscriberCount\": \"42900000\",\n",
      "        \"hiddenSubscriberCount\": false,\n",
      "        \"videoCount\": \"234868\"\n",
      "      }\n",
      "    }\n",
      "  ]\n",
      "}\n"
     ]
    }
   ],
   "source": [
    "import json\n",
    "print(json.dumps(response, indent=2))\n"
   ]
  },
  {
   "cell_type": "code",
   "execution_count": 9,
   "id": "7bc5659b",
   "metadata": {},
   "outputs": [
    {
     "name": "stdout",
     "output_type": "stream",
     "text": [
      "UUsT0YIqwnpJCM-mx7-gSA4Q\n"
     ]
    }
   ],
   "source": [
    "upload_playlist_id = response['items'][0]['contentDetails']['relatedPlaylists']['uploads']\n",
    "print(upload_playlist_id)\n"
   ]
  },
  {
   "cell_type": "code",
   "execution_count": 10,
   "id": "59016d19",
   "metadata": {},
   "outputs": [],
   "source": [
    "request = youtube.playlistItems().list(\n",
    "    part=\"snippet\",\n",
    "    playlistId=upload_playlist_id,\n",
    "    maxResults=10\n",
    ")\n",
    "response = request.execute()\n"
   ]
  },
  {
   "cell_type": "code",
   "execution_count": 11,
   "id": "4b62cefb",
   "metadata": {},
   "outputs": [
    {
     "name": "stdout",
     "output_type": "stream",
     "text": [
      "                                               title  \\\n",
      "0             The beauty of whale song #shorts #tedx   \n",
      "1  How a motto can help you glow | Elle Evanter |...   \n",
      "2  The Two Mountains as Humans we must Climb | As...   \n",
      "3  How belief creates currencies with value| Mehd...   \n",
      "4  What If Your Dreams Are a Lie? | Ifeoma Okoye ...   \n",
      "5  Beyond the Rearview Mirror: Are You Ready to L...   \n",
      "6  Mapping the Future of Human Connections | Lupe...   \n",
      "7  When Dreams Become Divine: Turning Inspiration...   \n",
      "8  From Meters to Kilometers | Adrija Rastenytė |...   \n",
      "9  On the Path to Crossroads | Karolina Žakaitytė...   \n",
      "\n",
      "                                           url  \n",
      "0  https://www.youtube.com/watch?v=zMgWOf9KrzM  \n",
      "1  https://www.youtube.com/watch?v=r56bbx6MSv0  \n",
      "2  https://www.youtube.com/watch?v=cZoAP8xBlJs  \n",
      "3  https://www.youtube.com/watch?v=XGMZ7h22kb8  \n",
      "4  https://www.youtube.com/watch?v=L1iQsSmGhWw  \n",
      "5  https://www.youtube.com/watch?v=gP7zQsm7oMQ  \n",
      "6  https://www.youtube.com/watch?v=mPykQuo6vdc  \n",
      "7  https://www.youtube.com/watch?v=-zrF1dgO9Vo  \n",
      "8  https://www.youtube.com/watch?v=-tqO7e7tQ8M  \n",
      "9  https://www.youtube.com/watch?v=4lAIRwXbgTQ  \n"
     ]
    }
   ],
   "source": [
    "video_links = []\n",
    "\n",
    "for item in response['items']:\n",
    "    video_id = item['snippet']['resourceId']['videoId']\n",
    "    title = item['snippet']['title']\n",
    "    url = f\"https://www.youtube.com/watch?v={video_id}\"\n",
    "    video_links.append({'title': title, 'url': url})\n",
    "\n",
    "import pandas as pd\n",
    "df = pd.DataFrame(video_links)\n",
    "print(df)\n"
   ]
  },
  {
   "cell_type": "code",
   "execution_count": 23,
   "id": "cad46441",
   "metadata": {},
   "outputs": [
    {
     "name": "stdout",
     "output_type": "stream",
     "text": [
      "Kanal Başlığı: TEDx Talks\n",
      "Kanal Açıklaması: TEDx is an international community that organizes TED-style events anywhere and everywhere -- celebrating locally-driven ideas and elevating them to a global stage. TEDx events are produced independently of TED conferences, each event curates speakers on their own, but based on TED's format and rules.\n",
      "\n",
      "For more information on using TED for commercial purposes (e.g. employee learning, in a film or online course), please submit a Media Request here: https://media-requests.ted.com.\n",
      "Abone Sayısı: 42900000\n",
      "Toplam İzlenme Sayısı: 8380162939\n",
      "Video Sayısı: 234868\n"
     ]
    }
   ],
   "source": [
    "from googleapiclient.discovery import build\n",
    "from config.config import YOUTUBE_API_KEY\n",
    "\n",
    "# API'yi başlat\n",
    "youtube = build(\"youtube\", \"v3\", developerKey=YOUTUBE_API_KEY)\n",
    "\n",
    "# Kanal ID'si\n",
    "channel_id = \"UCsT0YIqwnpJCM-mx7-gSA4Q\"  # TEDx kanal ID'si\n",
    "\n",
    "# Kanal bilgilerini al\n",
    "request = youtube.channels().list(\n",
    "    part=\"snippet,statistics\",\n",
    "    id=channel_id\n",
    ")\n",
    "response = request.execute()\n",
    "\n",
    "# Kanal bilgilerini yazdır\n",
    "channel_info = response['items'][0]\n",
    "channel_title = channel_info['snippet']['title']\n",
    "channel_description = channel_info['snippet']['description']\n",
    "subscriber_count = channel_info['statistics']['subscriberCount']\n",
    "view_count = channel_info['statistics']['viewCount']\n",
    "video_count = channel_info['statistics']['videoCount']\n",
    "\n",
    "print(\"Kanal Başlığı:\", channel_title)\n",
    "print(\"Kanal Açıklaması:\", channel_description)\n",
    "print(\"Abone Sayısı:\", subscriber_count)\n",
    "print(\"Toplam İzlenme Sayısı:\", view_count)\n",
    "print(\"Video Sayısı:\", video_count)\n"
   ]
  },
  {
   "cell_type": "code",
   "execution_count": null,
   "id": "49d3fb68",
   "metadata": {},
   "outputs": [],
   "source": []
  }
 ],
 "metadata": {
  "kernelspec": {
   "display_name": ".venv",
   "language": "python",
   "name": "python3"
  },
  "language_info": {
   "codemirror_mode": {
    "name": "ipython",
    "version": 3
   },
   "file_extension": ".py",
   "mimetype": "text/x-python",
   "name": "python",
   "nbconvert_exporter": "python",
   "pygments_lexer": "ipython3",
   "version": "3.12.4"
  }
 },
 "nbformat": 4,
 "nbformat_minor": 5
}
